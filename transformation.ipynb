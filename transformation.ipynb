{
 "cells": [
  {
   "cell_type": "markdown",
   "metadata": {},
   "source": [
    "假如有一列数据需要转换为以1为标准差以0为平均数的标准分数，如何用pandas实现？今天我们一边介绍数据的标准化，一边感受一下transformation的用法。要知道transformation不仅仅可以实现数据的标准化，它可以实现任何你能想到的数据转换。"
   ]
  },
  {
   "cell_type": "code",
   "execution_count": 1,
   "metadata": {
    "collapsed": true
   },
   "outputs": [],
   "source": [
    "import pandas as pd\n",
    "import numpy as np"
   ]
  },
  {
   "cell_type": "code",
   "execution_count": 2,
   "metadata": {},
   "outputs": [
    {
     "name": "stdout",
     "output_type": "stream",
     "text": [
      "2017-01-01   -1.037160\n",
      "2017-01-02    2.147475\n",
      "2017-01-03   -2.376474\n",
      "2017-01-04   -1.529423\n",
      "2017-01-05    0.115269\n",
      "Freq: D, dtype: float64\n"
     ]
    }
   ],
   "source": [
    "# 创建一个Series对象\n",
    "index = pd.date_range('20170101',periods=100)\n",
    "\n",
    "ts = pd.Series(np.random.normal(0.5,2,100),index)\n",
    "print ts.head()"
   ]
  },
  {
   "cell_type": "code",
   "execution_count": 3,
   "metadata": {},
   "outputs": [
    {
     "name": "stdout",
     "output_type": "stream",
     "text": [
      "<class 'pandas.core.series.Series'>\n"
     ]
    }
   ],
   "source": [
    "# 使用两个lambda函数key和zscore，其中zscore是transform的参数，key是groupby的参数\n",
    "key = lambda x:x.month\n",
    "zscore = lambda x:(x-x.mean())/x.std()\n",
    "transformed = ts.groupby(key).transform(zscore)\n",
    "print type(transformed)"
   ]
  },
  {
   "cell_type": "code",
   "execution_count": 4,
   "metadata": {},
   "outputs": [
    {
     "name": "stdout",
     "output_type": "stream",
     "text": [
      "1    7.162729e-18\n",
      "2    7.930164e-17\n",
      "3   -5.730183e-17\n",
      "4   -4.440892e-17\n",
      "dtype: float64\n"
     ]
    }
   ],
   "source": [
    "# 经过这样的转换，每个月的数据已经转换为标准分数（每月数据平均数为0标准差为1），查看一下得到的结果的数据类型，它还是一个series对象\n",
    "#验证一下结果是否正确，我们先按照月分组数据，然后再计算标准差和平均数\n",
    "print transformed.groupby(key).mean()"
   ]
  },
  {
   "cell_type": "code",
   "execution_count": 5,
   "metadata": {},
   "outputs": [
    {
     "name": "stdout",
     "output_type": "stream",
     "text": [
      "1    1.0\n",
      "2    1.0\n",
      "3    1.0\n",
      "4    1.0\n",
      "dtype: float64\n"
     ]
    }
   ],
   "source": [
    "print transformed.groupby(key).std()"
   ]
  }
 ],
 "metadata": {
  "kernelspec": {
   "display_name": "Python 2",
   "language": "python",
   "name": "python2"
  },
  "language_info": {
   "codemirror_mode": {
    "name": "ipython",
    "version": 2
   },
   "file_extension": ".py",
   "mimetype": "text/x-python",
   "name": "python",
   "nbconvert_exporter": "python",
   "pygments_lexer": "ipython2",
   "version": "2.7.12"
  }
 },
 "nbformat": 4,
 "nbformat_minor": 2
}

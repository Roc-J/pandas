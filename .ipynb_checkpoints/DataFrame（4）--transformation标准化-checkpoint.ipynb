{
 "cells": [
  {
   "cell_type": "markdown",
   "metadata": {},
   "source": [
    "### transformation\n",
    "假如有一列数据需要转换为以1为标准差以0为平均数的标准分数，如何用pandas实现？今天我们一边介绍数据的标准化，一边感受一下transformation的用法。要知道transformation不仅仅可以实现数据的标准化，它可以实现任何你能想到的数据转换。"
   ]
  },
  {
   "cell_type": "code",
   "execution_count": 1,
   "metadata": {},
   "outputs": [],
   "source": [
    "import pandas as pd\n",
    "import numpy as np"
   ]
  },
  {
   "cell_type": "code",
   "execution_count": 2,
   "metadata": {},
   "outputs": [
    {
     "name": "stdout",
     "output_type": "stream",
     "text": [
      "2018-08-23   -3.674232\n",
      "2018-08-24   -1.033121\n",
      "2018-08-25    3.885498\n",
      "2018-08-26   -1.708932\n",
      "2018-08-27    1.656924\n",
      "Freq: D, dtype: float64\n"
     ]
    }
   ],
   "source": [
    "# 创建一个Series对象\n",
    "index = pd.date_range('20180823',periods=100)\n",
    "# np.random.normal参数 均值 标准差 个数\n",
    "ts = pd.Series(np.random.normal(0.5,2,100),index)\n",
    "print(ts.head())"
   ]
  },
  {
   "cell_type": "code",
   "execution_count": 3,
   "metadata": {},
   "outputs": [
    {
     "name": "stdout",
     "output_type": "stream",
     "text": [
      "<class 'pandas.core.series.Series'>\n"
     ]
    }
   ],
   "source": [
    "# 使用两个lambda函数key和zscore，其中zscore是transform的参数，key是groupby的参数\n",
    "key = lambda x:x.month\n",
    "zscore = lambda x:(x-x.mean())/x.std()\n",
    "transformed = ts.groupby(key).transform(zscore)\n",
    "print(type(transformed))"
   ]
  },
  {
   "cell_type": "code",
   "execution_count": 4,
   "metadata": {},
   "outputs": [
    {
     "name": "stdout",
     "output_type": "stream",
     "text": [
      "8     1.233581e-17\n",
      "9     3.700743e-17\n",
      "10    7.341797e-17\n",
      "11   -4.440892e-17\n",
      "dtype: float64\n"
     ]
    }
   ],
   "source": [
    "# 经过这样的转换，每个月的数据已经转换为标准分数（每月数据平均数为0标准差为1），查看一下得到的结果的数据类型，它还是一个series对象\n",
    "#验证一下结果是否正确，我们先按照月分组数据，然后再计算标准差和平均数\n",
    "print(transformed.groupby(key).mean())"
   ]
  },
  {
   "cell_type": "code",
   "execution_count": 5,
   "metadata": {},
   "outputs": [
    {
     "name": "stdout",
     "output_type": "stream",
     "text": [
      "8     1.0\n",
      "9     1.0\n",
      "10    1.0\n",
      "11    1.0\n",
      "dtype: float64\n"
     ]
    }
   ],
   "source": [
    "print(transformed.groupby(key).std())"
   ]
  }
 ],
 "metadata": {
  "kernelspec": {
   "display_name": "Python 3",
   "language": "python",
   "name": "python3"
  },
  "language_info": {
   "codemirror_mode": {
    "name": "ipython",
    "version": 3
   },
   "file_extension": ".py",
   "mimetype": "text/x-python",
   "name": "python",
   "nbconvert_exporter": "python",
   "pygments_lexer": "ipython3",
   "version": "3.6.3"
  }
 },
 "nbformat": 4,
 "nbformat_minor": 2
}

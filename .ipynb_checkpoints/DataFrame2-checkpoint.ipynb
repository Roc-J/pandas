{
 "cells": [
  {
   "cell_type": "code",
   "execution_count": 1,
   "metadata": {
    "collapsed": true
   },
   "outputs": [],
   "source": [
    "import numpy as np\n",
    "import pandas as pd"
   ]
  },
  {
   "cell_type": "code",
   "execution_count": 2,
   "metadata": {},
   "outputs": [
    {
     "data": {
      "text/plain": [
       "DatetimeIndex(['2017-08-23', '2017-08-24', '2017-08-25', '2017-08-26',\n",
       "               '2017-08-27', '2017-08-28'],\n",
       "              dtype='datetime64[ns]', freq='D')"
      ]
     },
     "execution_count": 2,
     "metadata": {},
     "output_type": "execute_result"
    }
   ],
   "source": [
    "dates = pd.date_range('20170823',periods=6)\n",
    "dates"
   ]
  },
  {
   "cell_type": "code",
   "execution_count": 4,
   "metadata": {},
   "outputs": [],
   "source": [
    "df = pd.DataFrame(np.random.randn(6,4),index=dates,columns=list('ABCD'))"
   ]
  },
  {
   "cell_type": "code",
   "execution_count": 5,
   "metadata": {},
   "outputs": [
    {
     "data": {
      "text/html": [
       "<div>\n",
       "<table border=\"1\" class=\"dataframe\">\n",
       "  <thead>\n",
       "    <tr style=\"text-align: right;\">\n",
       "      <th></th>\n",
       "      <th>A</th>\n",
       "      <th>B</th>\n",
       "      <th>C</th>\n",
       "      <th>D</th>\n",
       "    </tr>\n",
       "  </thead>\n",
       "  <tbody>\n",
       "    <tr>\n",
       "      <th>2017-08-23</th>\n",
       "      <td>1.102317</td>\n",
       "      <td>-0.570598</td>\n",
       "      <td>1.344077</td>\n",
       "      <td>0.671721</td>\n",
       "    </tr>\n",
       "    <tr>\n",
       "      <th>2017-08-24</th>\n",
       "      <td>2.266535</td>\n",
       "      <td>-0.285289</td>\n",
       "      <td>0.379298</td>\n",
       "      <td>1.539153</td>\n",
       "    </tr>\n",
       "    <tr>\n",
       "      <th>2017-08-25</th>\n",
       "      <td>-1.430678</td>\n",
       "      <td>0.615251</td>\n",
       "      <td>1.597162</td>\n",
       "      <td>-0.285044</td>\n",
       "    </tr>\n",
       "    <tr>\n",
       "      <th>2017-08-26</th>\n",
       "      <td>-1.286778</td>\n",
       "      <td>1.428993</td>\n",
       "      <td>-0.174484</td>\n",
       "      <td>-0.984666</td>\n",
       "    </tr>\n",
       "    <tr>\n",
       "      <th>2017-08-27</th>\n",
       "      <td>-0.366677</td>\n",
       "      <td>0.198178</td>\n",
       "      <td>-1.785874</td>\n",
       "      <td>-1.030605</td>\n",
       "    </tr>\n",
       "    <tr>\n",
       "      <th>2017-08-28</th>\n",
       "      <td>0.271776</td>\n",
       "      <td>-0.836795</td>\n",
       "      <td>0.811158</td>\n",
       "      <td>0.257665</td>\n",
       "    </tr>\n",
       "  </tbody>\n",
       "</table>\n",
       "</div>"
      ],
      "text/plain": [
       "                   A         B         C         D\n",
       "2017-08-23  1.102317 -0.570598  1.344077  0.671721\n",
       "2017-08-24  2.266535 -0.285289  0.379298  1.539153\n",
       "2017-08-25 -1.430678  0.615251  1.597162 -0.285044\n",
       "2017-08-26 -1.286778  1.428993 -0.174484 -0.984666\n",
       "2017-08-27 -0.366677  0.198178 -1.785874 -1.030605\n",
       "2017-08-28  0.271776 -0.836795  0.811158  0.257665"
      ]
     },
     "execution_count": 5,
     "metadata": {},
     "output_type": "execute_result"
    }
   ],
   "source": [
    "df"
   ]
  },
  {
   "cell_type": "code",
   "execution_count": 6,
   "metadata": {},
   "outputs": [
    {
     "data": {
      "text/plain": [
       "2017-08-23    1.102317\n",
       "2017-08-24    2.266535\n",
       "2017-08-25   -1.430678\n",
       "2017-08-26   -1.286778\n",
       "2017-08-27   -0.366677\n",
       "2017-08-28    0.271776\n",
       "Freq: D, Name: A, dtype: float64"
      ]
     },
     "execution_count": 6,
     "metadata": {},
     "output_type": "execute_result"
    }
   ],
   "source": [
    "# 选择A列的数据进行操作：df['A']\n",
    "df['A']"
   ]
  },
  {
   "cell_type": "markdown",
   "metadata": {},
   "source": [
    "可以使用数组的切片操作，但是注意了，切片得到的是**行数据**  \n",
    "在列上不成立"
   ]
  },
  {
   "cell_type": "code",
   "execution_count": 7,
   "metadata": {},
   "outputs": [
    {
     "data": {
      "text/html": [
       "<div>\n",
       "<table border=\"1\" class=\"dataframe\">\n",
       "  <thead>\n",
       "    <tr style=\"text-align: right;\">\n",
       "      <th></th>\n",
       "      <th>A</th>\n",
       "      <th>B</th>\n",
       "      <th>C</th>\n",
       "      <th>D</th>\n",
       "    </tr>\n",
       "  </thead>\n",
       "  <tbody>\n",
       "    <tr>\n",
       "      <th>2017-08-24</th>\n",
       "      <td>2.266535</td>\n",
       "      <td>-0.285289</td>\n",
       "      <td>0.379298</td>\n",
       "      <td>1.539153</td>\n",
       "    </tr>\n",
       "    <tr>\n",
       "      <th>2017-08-25</th>\n",
       "      <td>-1.430678</td>\n",
       "      <td>0.615251</td>\n",
       "      <td>1.597162</td>\n",
       "      <td>-0.285044</td>\n",
       "    </tr>\n",
       "  </tbody>\n",
       "</table>\n",
       "</div>"
      ],
      "text/plain": [
       "                   A         B         C         D\n",
       "2017-08-24  2.266535 -0.285289  0.379298  1.539153\n",
       "2017-08-25 -1.430678  0.615251  1.597162 -0.285044"
      ]
     },
     "execution_count": 7,
     "metadata": {},
     "output_type": "execute_result"
    }
   ],
   "source": [
    "df[1:3]"
   ]
  },
  {
   "cell_type": "markdown",
   "metadata": {},
   "source": [
    "还可以使用行标签来指定输出的行"
   ]
  },
  {
   "cell_type": "code",
   "execution_count": 8,
   "metadata": {},
   "outputs": [
    {
     "data": {
      "text/html": [
       "<div>\n",
       "<table border=\"1\" class=\"dataframe\">\n",
       "  <thead>\n",
       "    <tr style=\"text-align: right;\">\n",
       "      <th></th>\n",
       "      <th>A</th>\n",
       "      <th>B</th>\n",
       "      <th>C</th>\n",
       "      <th>D</th>\n",
       "    </tr>\n",
       "  </thead>\n",
       "  <tbody>\n",
       "    <tr>\n",
       "      <th>2017-08-23</th>\n",
       "      <td>1.102317</td>\n",
       "      <td>-0.570598</td>\n",
       "      <td>1.344077</td>\n",
       "      <td>0.671721</td>\n",
       "    </tr>\n",
       "    <tr>\n",
       "      <th>2017-08-24</th>\n",
       "      <td>2.266535</td>\n",
       "      <td>-0.285289</td>\n",
       "      <td>0.379298</td>\n",
       "      <td>1.539153</td>\n",
       "    </tr>\n",
       "    <tr>\n",
       "      <th>2017-08-25</th>\n",
       "      <td>-1.430678</td>\n",
       "      <td>0.615251</td>\n",
       "      <td>1.597162</td>\n",
       "      <td>-0.285044</td>\n",
       "    </tr>\n",
       "    <tr>\n",
       "      <th>2017-08-26</th>\n",
       "      <td>-1.286778</td>\n",
       "      <td>1.428993</td>\n",
       "      <td>-0.174484</td>\n",
       "      <td>-0.984666</td>\n",
       "    </tr>\n",
       "  </tbody>\n",
       "</table>\n",
       "</div>"
      ],
      "text/plain": [
       "                   A         B         C         D\n",
       "2017-08-23  1.102317 -0.570598  1.344077  0.671721\n",
       "2017-08-24  2.266535 -0.285289  0.379298  1.539153\n",
       "2017-08-25 -1.430678  0.615251  1.597162 -0.285044\n",
       "2017-08-26 -1.286778  1.428993 -0.174484 -0.984666"
      ]
     },
     "execution_count": 8,
     "metadata": {},
     "output_type": "execute_result"
    }
   ],
   "source": [
    "df['20170823':'20170826']"
   ]
  },
  {
   "cell_type": "markdown",
   "metadata": {},
   "source": [
    "DataFrame的**loc**方法是帮助选择数据的，比如选择索引位置为0的一行数据（注意我们是用dates作为索引的）"
   ]
  },
  {
   "cell_type": "code",
   "execution_count": 9,
   "metadata": {},
   "outputs": [
    {
     "data": {
      "text/plain": [
       "A    1.102317\n",
       "B   -0.570598\n",
       "C    1.344077\n",
       "D    0.671721\n",
       "Name: 2017-08-23 00:00:00, dtype: float64"
      ]
     },
     "execution_count": 9,
     "metadata": {},
     "output_type": "execute_result"
    }
   ],
   "source": [
    "df.loc[dates[0]]"
   ]
  },
  {
   "cell_type": "code",
   "execution_count": 10,
   "metadata": {},
   "outputs": [
    {
     "data": {
      "text/plain": [
       "A    2.266535\n",
       "B   -0.285289\n",
       "C    0.379298\n",
       "D    1.539153\n",
       "Name: 2017-08-24 00:00:00, dtype: float64"
      ]
     },
     "execution_count": 10,
     "metadata": {},
     "output_type": "execute_result"
    }
   ],
   "source": [
    "df.loc['20170824']"
   ]
  },
  {
   "cell_type": "code",
   "execution_count": 11,
   "metadata": {},
   "outputs": [
    {
     "data": {
      "text/html": [
       "<div>\n",
       "<table border=\"1\" class=\"dataframe\">\n",
       "  <thead>\n",
       "    <tr style=\"text-align: right;\">\n",
       "      <th></th>\n",
       "      <th>A</th>\n",
       "      <th>B</th>\n",
       "    </tr>\n",
       "  </thead>\n",
       "  <tbody>\n",
       "    <tr>\n",
       "      <th>2017-08-23</th>\n",
       "      <td>1.102317</td>\n",
       "      <td>-0.570598</td>\n",
       "    </tr>\n",
       "    <tr>\n",
       "      <th>2017-08-24</th>\n",
       "      <td>2.266535</td>\n",
       "      <td>-0.285289</td>\n",
       "    </tr>\n",
       "    <tr>\n",
       "      <th>2017-08-25</th>\n",
       "      <td>-1.430678</td>\n",
       "      <td>0.615251</td>\n",
       "    </tr>\n",
       "    <tr>\n",
       "      <th>2017-08-26</th>\n",
       "      <td>-1.286778</td>\n",
       "      <td>1.428993</td>\n",
       "    </tr>\n",
       "    <tr>\n",
       "      <th>2017-08-27</th>\n",
       "      <td>-0.366677</td>\n",
       "      <td>0.198178</td>\n",
       "    </tr>\n",
       "    <tr>\n",
       "      <th>2017-08-28</th>\n",
       "      <td>0.271776</td>\n",
       "      <td>-0.836795</td>\n",
       "    </tr>\n",
       "  </tbody>\n",
       "</table>\n",
       "</div>"
      ],
      "text/plain": [
       "                   A         B\n",
       "2017-08-23  1.102317 -0.570598\n",
       "2017-08-24  2.266535 -0.285289\n",
       "2017-08-25 -1.430678  0.615251\n",
       "2017-08-26 -1.286778  1.428993\n",
       "2017-08-27 -0.366677  0.198178\n",
       "2017-08-28  0.271776 -0.836795"
      ]
     },
     "execution_count": 11,
     "metadata": {},
     "output_type": "execute_result"
    }
   ],
   "source": [
    "# 选择多列数据\n",
    "df.loc[:,['A','B']]"
   ]
  },
  {
   "cell_type": "code",
   "execution_count": 12,
   "metadata": {},
   "outputs": [
    {
     "data": {
      "text/html": [
       "<div>\n",
       "<table border=\"1\" class=\"dataframe\">\n",
       "  <thead>\n",
       "    <tr style=\"text-align: right;\">\n",
       "      <th></th>\n",
       "      <th>A</th>\n",
       "      <th>C</th>\n",
       "    </tr>\n",
       "  </thead>\n",
       "  <tbody>\n",
       "    <tr>\n",
       "      <th>2017-08-23</th>\n",
       "      <td>1.102317</td>\n",
       "      <td>1.344077</td>\n",
       "    </tr>\n",
       "    <tr>\n",
       "      <th>2017-08-24</th>\n",
       "      <td>2.266535</td>\n",
       "      <td>0.379298</td>\n",
       "    </tr>\n",
       "    <tr>\n",
       "      <th>2017-08-25</th>\n",
       "      <td>-1.430678</td>\n",
       "      <td>1.597162</td>\n",
       "    </tr>\n",
       "    <tr>\n",
       "      <th>2017-08-26</th>\n",
       "      <td>-1.286778</td>\n",
       "      <td>-0.174484</td>\n",
       "    </tr>\n",
       "    <tr>\n",
       "      <th>2017-08-27</th>\n",
       "      <td>-0.366677</td>\n",
       "      <td>-1.785874</td>\n",
       "    </tr>\n",
       "    <tr>\n",
       "      <th>2017-08-28</th>\n",
       "      <td>0.271776</td>\n",
       "      <td>0.811158</td>\n",
       "    </tr>\n",
       "  </tbody>\n",
       "</table>\n",
       "</div>"
      ],
      "text/plain": [
       "                   A         C\n",
       "2017-08-23  1.102317  1.344077\n",
       "2017-08-24  2.266535  0.379298\n",
       "2017-08-25 -1.430678  1.597162\n",
       "2017-08-26 -1.286778 -0.174484\n",
       "2017-08-27 -0.366677 -1.785874\n",
       "2017-08-28  0.271776  0.811158"
      ]
     },
     "execution_count": 12,
     "metadata": {},
     "output_type": "execute_result"
    }
   ],
   "source": [
    "# 直接使用列名，放在一个列表\n",
    "df[['A','C']]"
   ]
  },
  {
   "cell_type": "code",
   "execution_count": 13,
   "metadata": {},
   "outputs": [
    {
     "data": {
      "text/html": [
       "<div>\n",
       "<table border=\"1\" class=\"dataframe\">\n",
       "  <thead>\n",
       "    <tr style=\"text-align: right;\">\n",
       "      <th></th>\n",
       "      <th>A</th>\n",
       "      <th>D</th>\n",
       "    </tr>\n",
       "  </thead>\n",
       "  <tbody>\n",
       "    <tr>\n",
       "      <th>2017-08-23</th>\n",
       "      <td>1.102317</td>\n",
       "      <td>0.671721</td>\n",
       "    </tr>\n",
       "    <tr>\n",
       "      <th>2017-08-24</th>\n",
       "      <td>2.266535</td>\n",
       "      <td>1.539153</td>\n",
       "    </tr>\n",
       "    <tr>\n",
       "      <th>2017-08-25</th>\n",
       "      <td>-1.430678</td>\n",
       "      <td>-0.285044</td>\n",
       "    </tr>\n",
       "    <tr>\n",
       "      <th>2017-08-26</th>\n",
       "      <td>-1.286778</td>\n",
       "      <td>-0.984666</td>\n",
       "    </tr>\n",
       "  </tbody>\n",
       "</table>\n",
       "</div>"
      ],
      "text/plain": [
       "                   A         D\n",
       "2017-08-23  1.102317  0.671721\n",
       "2017-08-24  2.266535  1.539153\n",
       "2017-08-25 -1.430678 -0.285044\n",
       "2017-08-26 -1.286778 -0.984666"
      ]
     },
     "execution_count": 13,
     "metadata": {},
     "output_type": "execute_result"
    }
   ],
   "source": [
    "# 选择的是一个局部数据，是行和列的交叉区域\n",
    "df.loc['20170823':'20170826',['A','D']]"
   ]
  },
  {
   "cell_type": "code",
   "execution_count": 15,
   "metadata": {},
   "outputs": [
    {
     "data": {
      "text/plain": [
       "1.5391525321593349"
      ]
     },
     "execution_count": 15,
     "metadata": {},
     "output_type": "execute_result"
    }
   ],
   "source": [
    "# 只选择某一个数据，可以指定行和列：\n",
    "df.loc[dates[1],'D']"
   ]
  },
  {
   "cell_type": "code",
   "execution_count": 16,
   "metadata": {},
   "outputs": [
    {
     "data": {
      "text/plain": [
       "1.1023170883886375"
      ]
     },
     "execution_count": 16,
     "metadata": {},
     "output_type": "execute_result"
    }
   ],
   "source": [
    "# 当然，at方法是专门用于获取某个值的：\n",
    "df.at[dates[0],'A']"
   ]
  }
 ],
 "metadata": {
  "kernelspec": {
   "display_name": "Python 2",
   "language": "python",
   "name": "python2"
  },
  "language_info": {
   "codemirror_mode": {
    "name": "ipython",
    "version": 2
   },
   "file_extension": ".py",
   "mimetype": "text/x-python",
   "name": "python",
   "nbconvert_exporter": "python",
   "pygments_lexer": "ipython2",
   "version": "2.7.12"
  }
 },
 "nbformat": 4,
 "nbformat_minor": 2
}

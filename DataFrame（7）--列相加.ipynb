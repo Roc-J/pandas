{
 "cells": [
  {
   "cell_type": "markdown",
   "metadata": {},
   "source": [
    "### DataFrame 进行列的字符串相加"
   ]
  },
  {
   "cell_type": "code",
   "execution_count": 1,
   "metadata": {},
   "outputs": [],
   "source": [
    "import pandas as pd\n",
    "import numpy as np"
   ]
  },
  {
   "cell_type": "code",
   "execution_count": 4,
   "metadata": {},
   "outputs": [],
   "source": [
    "a = pd.DataFrame(np.random.randn(6, 4), columns=list('ABCD'))"
   ]
  },
  {
   "cell_type": "code",
   "execution_count": 5,
   "metadata": {},
   "outputs": [
    {
     "data": {
      "text/html": [
       "<div>\n",
       "<style scoped>\n",
       "    .dataframe tbody tr th:only-of-type {\n",
       "        vertical-align: middle;\n",
       "    }\n",
       "\n",
       "    .dataframe tbody tr th {\n",
       "        vertical-align: top;\n",
       "    }\n",
       "\n",
       "    .dataframe thead th {\n",
       "        text-align: right;\n",
       "    }\n",
       "</style>\n",
       "<table border=\"1\" class=\"dataframe\">\n",
       "  <thead>\n",
       "    <tr style=\"text-align: right;\">\n",
       "      <th></th>\n",
       "      <th>A</th>\n",
       "      <th>B</th>\n",
       "      <th>C</th>\n",
       "      <th>D</th>\n",
       "    </tr>\n",
       "  </thead>\n",
       "  <tbody>\n",
       "    <tr>\n",
       "      <th>0</th>\n",
       "      <td>0.758323</td>\n",
       "      <td>-0.714536</td>\n",
       "      <td>-1.338301</td>\n",
       "      <td>-0.952390</td>\n",
       "    </tr>\n",
       "    <tr>\n",
       "      <th>1</th>\n",
       "      <td>0.146400</td>\n",
       "      <td>0.398248</td>\n",
       "      <td>-1.856540</td>\n",
       "      <td>0.270979</td>\n",
       "    </tr>\n",
       "    <tr>\n",
       "      <th>2</th>\n",
       "      <td>0.153345</td>\n",
       "      <td>0.132260</td>\n",
       "      <td>0.454609</td>\n",
       "      <td>-0.939613</td>\n",
       "    </tr>\n",
       "    <tr>\n",
       "      <th>3</th>\n",
       "      <td>-0.472570</td>\n",
       "      <td>0.934821</td>\n",
       "      <td>-1.086913</td>\n",
       "      <td>1.333306</td>\n",
       "    </tr>\n",
       "    <tr>\n",
       "      <th>4</th>\n",
       "      <td>-0.429866</td>\n",
       "      <td>-0.550438</td>\n",
       "      <td>-0.524455</td>\n",
       "      <td>1.374706</td>\n",
       "    </tr>\n",
       "    <tr>\n",
       "      <th>5</th>\n",
       "      <td>0.707381</td>\n",
       "      <td>1.410684</td>\n",
       "      <td>1.243283</td>\n",
       "      <td>1.916733</td>\n",
       "    </tr>\n",
       "  </tbody>\n",
       "</table>\n",
       "</div>"
      ],
      "text/plain": [
       "          A         B         C         D\n",
       "0  0.758323 -0.714536 -1.338301 -0.952390\n",
       "1  0.146400  0.398248 -1.856540  0.270979\n",
       "2  0.153345  0.132260  0.454609 -0.939613\n",
       "3 -0.472570  0.934821 -1.086913  1.333306\n",
       "4 -0.429866 -0.550438 -0.524455  1.374706\n",
       "5  0.707381  1.410684  1.243283  1.916733"
      ]
     },
     "execution_count": 5,
     "metadata": {},
     "output_type": "execute_result"
    }
   ],
   "source": [
    "a"
   ]
  },
  {
   "cell_type": "code",
   "execution_count": 6,
   "metadata": {},
   "outputs": [],
   "source": [
    "a['E'] = a['A'].map(str) + '#' + a['B'].map(str) + '#' + a['C'].map(str) + '#' + a['D'].map(str)"
   ]
  },
  {
   "cell_type": "code",
   "execution_count": 7,
   "metadata": {},
   "outputs": [
    {
     "data": {
      "text/html": [
       "<div>\n",
       "<style scoped>\n",
       "    .dataframe tbody tr th:only-of-type {\n",
       "        vertical-align: middle;\n",
       "    }\n",
       "\n",
       "    .dataframe tbody tr th {\n",
       "        vertical-align: top;\n",
       "    }\n",
       "\n",
       "    .dataframe thead th {\n",
       "        text-align: right;\n",
       "    }\n",
       "</style>\n",
       "<table border=\"1\" class=\"dataframe\">\n",
       "  <thead>\n",
       "    <tr style=\"text-align: right;\">\n",
       "      <th></th>\n",
       "      <th>A</th>\n",
       "      <th>B</th>\n",
       "      <th>C</th>\n",
       "      <th>D</th>\n",
       "      <th>E</th>\n",
       "    </tr>\n",
       "  </thead>\n",
       "  <tbody>\n",
       "    <tr>\n",
       "      <th>0</th>\n",
       "      <td>0.758323</td>\n",
       "      <td>-0.714536</td>\n",
       "      <td>-1.338301</td>\n",
       "      <td>-0.952390</td>\n",
       "      <td>0.7583225606470514#-0.7145361818276589#-1.3383...</td>\n",
       "    </tr>\n",
       "    <tr>\n",
       "      <th>1</th>\n",
       "      <td>0.146400</td>\n",
       "      <td>0.398248</td>\n",
       "      <td>-1.856540</td>\n",
       "      <td>0.270979</td>\n",
       "      <td>0.14639990780919662#0.3982480673001641#-1.8565...</td>\n",
       "    </tr>\n",
       "    <tr>\n",
       "      <th>2</th>\n",
       "      <td>0.153345</td>\n",
       "      <td>0.132260</td>\n",
       "      <td>0.454609</td>\n",
       "      <td>-0.939613</td>\n",
       "      <td>0.15334476442124273#0.13225969376448551#0.4546...</td>\n",
       "    </tr>\n",
       "    <tr>\n",
       "      <th>3</th>\n",
       "      <td>-0.472570</td>\n",
       "      <td>0.934821</td>\n",
       "      <td>-1.086913</td>\n",
       "      <td>1.333306</td>\n",
       "      <td>-0.47257039280375446#0.9348205306524989#-1.086...</td>\n",
       "    </tr>\n",
       "    <tr>\n",
       "      <th>4</th>\n",
       "      <td>-0.429866</td>\n",
       "      <td>-0.550438</td>\n",
       "      <td>-0.524455</td>\n",
       "      <td>1.374706</td>\n",
       "      <td>-0.4298661106979717#-0.5504377949368924#-0.524...</td>\n",
       "    </tr>\n",
       "    <tr>\n",
       "      <th>5</th>\n",
       "      <td>0.707381</td>\n",
       "      <td>1.410684</td>\n",
       "      <td>1.243283</td>\n",
       "      <td>1.916733</td>\n",
       "      <td>0.7073805383633867#1.4106843912477696#1.243283...</td>\n",
       "    </tr>\n",
       "  </tbody>\n",
       "</table>\n",
       "</div>"
      ],
      "text/plain": [
       "          A         B         C         D  \\\n",
       "0  0.758323 -0.714536 -1.338301 -0.952390   \n",
       "1  0.146400  0.398248 -1.856540  0.270979   \n",
       "2  0.153345  0.132260  0.454609 -0.939613   \n",
       "3 -0.472570  0.934821 -1.086913  1.333306   \n",
       "4 -0.429866 -0.550438 -0.524455  1.374706   \n",
       "5  0.707381  1.410684  1.243283  1.916733   \n",
       "\n",
       "                                                   E  \n",
       "0  0.7583225606470514#-0.7145361818276589#-1.3383...  \n",
       "1  0.14639990780919662#0.3982480673001641#-1.8565...  \n",
       "2  0.15334476442124273#0.13225969376448551#0.4546...  \n",
       "3  -0.47257039280375446#0.9348205306524989#-1.086...  \n",
       "4  -0.4298661106979717#-0.5504377949368924#-0.524...  \n",
       "5  0.7073805383633867#1.4106843912477696#1.243283...  "
      ]
     },
     "execution_count": 7,
     "metadata": {},
     "output_type": "execute_result"
    }
   ],
   "source": [
    "a"
   ]
  }
 ],
 "metadata": {
  "kernelspec": {
   "display_name": "Python 3",
   "language": "python",
   "name": "python3"
  },
  "language_info": {
   "codemirror_mode": {
    "name": "ipython",
    "version": 3
   },
   "file_extension": ".py",
   "mimetype": "text/x-python",
   "name": "python",
   "nbconvert_exporter": "python",
   "pygments_lexer": "ipython3",
   "version": "3.6.3"
  }
 },
 "nbformat": 4,
 "nbformat_minor": 2
}
